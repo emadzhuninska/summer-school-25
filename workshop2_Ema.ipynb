{
 "cells": [
  {
   "cell_type": "markdown",
   "id": "37071f53",
   "metadata": {},
   "source": [
    "# Pauli Operators, Single & Multiple Qubit Gates, and Measurements"
   ]
  },
  {
   "cell_type": "markdown",
   "id": "446201f8",
   "metadata": {},
   "source": [
    "### 1. What is a Quantum Gate?"
   ]
  },
  {
   "cell_type": "markdown",
   "id": "c133911e",
   "metadata": {},
   "source": [
    "Quantum gates give us the possibilities to manipulate quantum states.\n",
    "\n",
    "Every **unitary operator**, that is every matrix that fulfills $U^\\dagger U = \\mathbb{I}$, can be considered a quantum gate in a formal sense:\n",
    "\n",
    "- always reversible transformations.\n",
    "\n",
    "- cannot generate new qubits (*No-Cloning Therem*), therefore, they have the same amount of inputs and outputs.\n",
    "\n",
    "- there is exactly one conduit per qubit in a circuit."
   ]
  },
  {
   "cell_type": "markdown",
   "id": "22ca9162",
   "metadata": {},
   "source": [
    "### 2. Single Qubit Gates"
   ]
  },
  {
   "cell_type": "code",
   "execution_count": 1,
   "id": "390c20b8",
   "metadata": {},
   "outputs": [],
   "source": [
    "import matplotlib.pyplot as plt\n",
    "from qiskit import QuantumCircuit\n",
    "\n",
    "# Suppress warnings\n",
    "import warnings\n",
    "warnings.filterwarnings('ignore')"
   ]
  },
  {
   "cell_type": "markdown",
   "id": "8628d6a6",
   "metadata": {},
   "source": [
    "#### The X-gate"
   ]
  },
  {
   "cell_type": "markdown",
   "id": "43ad6c70",
   "metadata": {},
   "source": [
    "The X-gate is the quantum analogy of the classical NOT gate, or simply known as the bit flip gate. \n",
    "\n",
    "- $X|0\\rangle$ &rarr; $|1\\rangle$ \n",
    "\n",
    "- $X|1\\rangle$ &rarr; $|0\\rangle$ \n",
    "\n",
    "It is represented by the **Pauli-X** matrix:\n",
    "\n",
    "$$\n",
    "X = \n",
    "\\begin{pmatrix}\n",
    "0 & 1 \\\\\n",
    "1 & 0\n",
    "\\end{pmatrix}\n",
    "= |0\\rangle \\langle 1| + |1\\rangle \\langle 0|\n",
    "$$\n",
    "\n",
    "When applied to any quantum state $|\\psi \\rangle = \\alpha |0\\rangle + \\beta |1\\rangle$:\n",
    "\n",
    "$$\n",
    "X|\\psi \\rangle = \n",
    "\\begin{pmatrix}\n",
    "0 & 1 \\\\\n",
    "1 & 0\n",
    "\\end{pmatrix}\n",
    "\\begin{pmatrix}\n",
    "\\alpha\\\\\n",
    "\\beta\n",
    "\\end{pmatrix}\n",
    "=\n",
    "\\begin{pmatrix}\n",
    "\\beta\\\\\n",
    "\\alpha\n",
    "\\end{pmatrix}\n",
    "= \\beta|0\\rangle + \\alpha|1\\rangle \n",
    "$$\n"
   ]
  },
  {
   "cell_type": "markdown",
   "id": "9b3c17e1",
   "metadata": {},
   "source": [
    "##### The X-gate in Qiskit:"
   ]
  },
  {
   "cell_type": "code",
   "execution_count": 2,
   "id": "f532d33a",
   "metadata": {},
   "outputs": [
    {
     "name": "stdout",
     "output_type": "stream",
     "text": [
      "   ┌───┐\n",
      "q: ┤ X ├\n",
      "   └───┘\n"
     ]
    },
    {
     "data": {
      "image/png": "[encoded data removed]",
      "text/plain": [
       "<Figure size 185.453x117.056 with 1 Axes>"
      ]
     },
     "execution_count": 2,
     "metadata": {},
     "output_type": "execute_result"
    }
   ],
   "source": [
    "qc = QuantumCircuit(1)  # Create a quantum circuit with 1 qubit\n",
    "qc.x(0)  # Apply X-gate to qubit 0\n",
    "\n",
    "print(qc)\n",
    "\n",
    "qc.draw(output='mpl')  "
   ]
  },
  {
   "cell_type": "markdown",
   "id": "4d4c3d02",
   "metadata": {},
   "source": [
    "#### The Z-gate"
   ]
  },
  {
   "cell_type": "markdown",
   "id": "2c6ebea7",
   "metadata": {},
   "source": [
    "The Z-gate is leaves $|0\\rangle$ unchanged, BUT switches the sign of $|1\\rangle$.\n",
    "\n",
    "- $Z|0\\rangle$ &rarr; $|0\\rangle$ \n",
    "\n",
    "- $Z|1\\rangle$ &rarr; $-|1\\rangle$ \n",
    "\n",
    "It is represented by the **Pauli-Z** matrix:\n",
    "\n",
    "$$\n",
    "Z = \n",
    "\\begin{pmatrix}\n",
    "1 & 0 \\\\\n",
    "0 & -1\n",
    "\\end{pmatrix}\n",
    "= |0\\rangle \\langle 0| - |1\\rangle \\langle 1|\n",
    "$$"
   ]
  },
  {
   "cell_type": "markdown",
   "id": "ef83dafd",
   "metadata": {},
   "source": [
    "##### The Z-gate in Qiskit:"
   ]
  },
  {
   "cell_type": "code",
   "execution_count": 3,
   "id": "0ea93483",
   "metadata": {},
   "outputs": [
    {
     "name": "stdout",
     "output_type": "stream",
     "text": [
      "   ┌───┐\n",
      "q: ┤ Z ├\n",
      "   └───┘\n"
     ]
    },
    {
     "data": {
      "image/png": "[encoded data removed]",
      "text/plain": [
       "<Figure size 185.453x117.056 with 1 Axes>"
      ]
     },
     "execution_count": 3,
     "metadata": {},
     "output_type": "execute_result"
    }
   ],
   "source": [
    "qc = QuantumCircuit(1)  # Create a quantum circuit with 1 qubit\n",
    "qc.z(0)  # Apply Z-gate to qubit 0\n",
    "\n",
    "print(qc)\n",
    "\n",
    "qc.draw(output='mpl')  "
   ]
  },
  {
   "cell_type": "markdown",
   "id": "eeb0e6f3",
   "metadata": {},
   "source": [
    "#### The Hadamard Gate"
   ]
  },
  {
   "cell_type": "markdown",
   "id": "dcd535e9",
   "metadata": {},
   "source": [
    "The Hadamard gate creates a superposition of $|0\\rangle$ and $|1\\rangle$ from the states $|0\\rangle$ and $|1\\rangle$:\n",
    "\n",
    "- $H|0\\rangle$ &rarr; $|+\\rangle$ = $\\frac{1}{\\sqrt{2}} (|0\\rangle + |1\\rangle)$\n",
    "\n",
    "- $H|1\\rangle$ &rarr; $|-\\rangle$ = $\\frac{1}{\\sqrt{2}} (|0\\rangle - |1\\rangle)$\n",
    "\n",
    "\n",
    "and its matrix representation:\n",
    "\n",
    "$$\n",
    "H = \\frac{1}{\\sqrt{2}}\n",
    "\\begin{pmatrix}\n",
    "1 & 1 \\\\\n",
    "1 & -1\n",
    "\\end{pmatrix}\n",
    "$$\n",
    "\n"
   ]
  },
  {
   "cell_type": "markdown",
   "id": "0be2dde7",
   "metadata": {},
   "source": [
    "##### The Hadamard Gate in Qiskit:"
   ]
  },
  {
   "cell_type": "code",
   "execution_count": 4,
   "id": "05ec954e",
   "metadata": {},
   "outputs": [
    {
     "name": "stdout",
     "output_type": "stream",
     "text": [
      "   ┌───┐\n",
      "q: ┤ H ├\n",
      "   └───┘\n"
     ]
    },
    {
     "data": {
      "image/png": "[encoded data removed]",
      "text/plain": [
       "<Figure size 185.453x117.056 with 1 Axes>"
      ]
     },
     "execution_count": 4,
     "metadata": {},
     "output_type": "execute_result"
    }
   ],
   "source": [
    "qc = QuantumCircuit(1)  # Create a quantum circuit with 1 qubit\n",
    "qc.h(0)  # Apply Hadamard gate to qubit 0\n",
    "\n",
    "print(qc)\n",
    "\n",
    "qc.draw(output='mpl')  # Draw the circuit using Matplotlib"
   ]
  },
  {
   "cell_type": "markdown",
   "id": "75859e66",
   "metadata": {},
   "source": [
    "### 3. Multiple Qubits Gates"
   ]
  },
  {
   "cell_type": "code",
   "execution_count": null,
   "id": "8d380cc6",
   "metadata": {},
   "outputs": [],
   "source": []
  },
  {
   "cell_type": "markdown",
   "id": "dd224cb9",
   "metadata": {},
   "source": [
    "### Measurements"
   ]
  },
  {
   "cell_type": "code",
   "execution_count": 5,
   "id": "d5969bac",
   "metadata": {},
   "outputs": [
    {
     "name": "stdout",
     "output_type": "stream",
     "text": [
      "        ┌───┐      ░ ┌─┐   \n",
      "   q_0: ┤ H ├──■───░─┤M├───\n",
      "        └───┘┌─┴─┐ ░ └╥┘┌─┐\n",
      "   q_1: ─────┤ X ├─░──╫─┤M├\n",
      "             └───┘ ░  ║ └╥┘\n",
      "meas: 2/══════════════╩══╩═\n",
      "                      0  1 \n"
     ]
    },
    {
     "data": {
      "image/png": "[encoded data removed]",
      "text/plain": [
       "<Figure size 580.387x284.278 with 1 Axes>"
      ]
     },
     "execution_count": 5,
     "metadata": {},
     "output_type": "execute_result"
    }
   ],
   "source": [
    "qc = QuantumCircuit(2)  # Create a quantum circuit with 1 qubit\n",
    "qc.h(0) \n",
    "qc.cx(0,1)\n",
    "\n",
    "qc.measure_all()\n",
    "\n",
    "print(qc)\n",
    "\n",
    "qc.draw(output='mpl')  \n"
   ]
  }
 ],
 "metadata": {
  "kernelspec": {
   "display_name": "quantum",
   "language": "python",
   "name": "python3"
  },
  "language_info": {
   "codemirror_mode": {
    "name": "ipython",
    "version": 3
   },
   "file_extension": ".py",
   "mimetype": "text/x-python",
   "name": "python",
   "nbconvert_exporter": "python",
   "pygments_lexer": "ipython3",
   "version": "3.11.13"
  }
 },
 "nbformat": 4,
 "nbformat_minor": 5
}
