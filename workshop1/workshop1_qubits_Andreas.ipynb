{
 "cells": [
  {
   "cell_type": "markdown",
   "id": "1f87c124",
   "metadata": {},
   "source": [
    "Before we start to code, we import our basic libraries."
   ]
  },
  {
   "cell_type": "code",
   "execution_count": 19,
   "id": "7c1cd187",
   "metadata": {},
   "outputs": [],
   "source": [
    "from qiskit import *\n",
    "import qiskit.quantum_info as qinfo\n",
    "import numpy as np"
   ]
  },
  {
   "cell_type": "markdown",
   "id": "cd4ac4b5",
   "metadata": {},
   "source": [
    "For starters, we define a QuantumCircuit with one qubit. We can visualize our circuit with the draw() method of the QuantumCircuit class."
   ]
  },
  {
   "cell_type": "code",
   "execution_count": 20,
   "id": "f1bec259",
   "metadata": {},
   "outputs": [
    {
     "name": "stdout",
     "output_type": "stream",
     "text": [
      "Statevector([1.+0.j, 0.+0.j],\n",
      "            dims=(2,))\n"
     ]
    },
    {
     "data": {
      "image/png": "[encoded data removed]",
      "text/plain": [
       "<Figure size 143.647x200.667 with 1 Axes>"
      ]
     },
     "execution_count": 20,
     "metadata": {},
     "output_type": "execute_result"
    }
   ],
   "source": [
    "qc1 = QuantumCircuit(1, 1)\n",
    "print(qinfo.Statevector(qc1))\n",
    "qc1.draw()\n",
    "qc1.draw(output='mpl')"
   ]
  },
  {
   "cell_type": "markdown",
   "id": "77d80305",
   "metadata": {},
   "source": [
    "We can manipulate the qubit in our circuit with (unitary) gates. A simple gate is the Pauli X gate, which performs a qubit flip."
   ]
  },
  {
   "cell_type": "code",
   "execution_count": 21,
   "id": "bcefa88b",
   "metadata": {},
   "outputs": [
    {
     "name": "stdout",
     "output_type": "stream",
     "text": [
      "Statevector([0.+0.j, 1.+0.j],\n",
      "            dims=(2,))\n"
     ]
    },
    {
     "data": {
      "image/png": "[encoded data removed]",
      "text/plain": [
       "<Figure size 185.453x200.667 with 1 Axes>"
      ]
     },
     "execution_count": 21,
     "metadata": {},
     "output_type": "execute_result"
    }
   ],
   "source": [
    "qc1.x(0)\n",
    "print(qinfo.Statevector(qc1))\n",
    "qc1.draw(output=\"mpl\")"
   ]
  },
  {
   "cell_type": "markdown",
   "id": "8e03e99c",
   "metadata": {},
   "source": [
    "So let's try a larger quantum circuit!"
   ]
  },
  {
   "cell_type": "code",
   "execution_count": 22,
   "id": "1d1627e5",
   "metadata": {},
   "outputs": [
    {
     "name": "stdout",
     "output_type": "stream",
     "text": [
      "Statevector([1.+0.j, 0.+0.j, 0.+0.j, 0.+0.j],\n",
      "            dims=(2, 2))\n",
      "Statevector([0.+0.j, 0.+0.j, 0.+0.j, 1.+0.j],\n",
      "            dims=(2, 2))\n"
     ]
    },
    {
     "data": {
      "image/png": "[encoded data removed]",
      "text/plain": [
       "<Figure size 203.683x284.278 with 1 Axes>"
      ]
     },
     "execution_count": 22,
     "metadata": {},
     "output_type": "execute_result"
    }
   ],
   "source": [
    "qc2 = QuantumCircuit(2, 2)\n",
    "print(qinfo.Statevector(qc2))\n",
    "qc2.x(0)\n",
    "qc2.x(1)\n",
    "print(qinfo.Statevector(qc2))\n",
    "qc2.draw(output=\"mpl\")"
   ]
  },
  {
   "cell_type": "markdown",
   "id": "5b19f550",
   "metadata": {},
   "source": [
    "QuantumCircuit initializes all qubits in the |0> state. If we want to start our circuit with a specific state, we can define a variable of the Statevector class and use it to initialize a state in our quantum circuit."
   ]
  },
  {
   "cell_type": "code",
   "execution_count": 23,
   "id": "cc88647f",
   "metadata": {},
   "outputs": [
    {
     "name": "stdout",
     "output_type": "stream",
     "text": [
      "State we want:\n",
      "Statevector([0.        +0.j        , 0.        +0.j        ,\n",
      "             0.70710678+0.j        , 0.        +0.70710678j],\n",
      "            dims=(2, 2))\n",
      "State we start with:\n",
      "Statevector([1.+0.j, 0.+0.j, 0.+0.j, 0.+0.j],\n",
      "            dims=(2, 2))\n",
      "State we got\n",
      "Statevector([0.        +0.j        , 0.        +0.j        ,\n",
      "             0.70710678+0.j        , 0.        +0.70710678j],\n",
      "            dims=(2, 2))\n"
     ]
    },
    {
     "data": {
      "image/png": "[encoded data removed]",
      "text/plain": [
       "<Figure size 287.294x284.278 with 1 Axes>"
      ]
     },
     "execution_count": 23,
     "metadata": {},
     "output_type": "execute_result"
    }
   ],
   "source": [
    "vector = qinfo.Statevector([0, 0, 1/np.sqrt(2), 1j/np.sqrt(2)])\n",
    "print(\"State we want:\")\n",
    "print(vector)\n",
    "qc3 = QuantumCircuit(2, 2)\n",
    "print(\"State we start with:\")\n",
    "print(qinfo.Statevector(qc3))\n",
    "qc3.initialize(vector)\n",
    "print(\"State we got\")\n",
    "print(qinfo.Statevector(qc3))\n",
    "qc3.draw(output=\"mpl\")"
   ]
  },
  {
   "cell_type": "markdown",
   "id": "12190c55",
   "metadata": {},
   "source": [
    "Again, we can apply a Pauli X gate (now on qubit1, the second qubit in our register):"
   ]
  },
  {
   "cell_type": "code",
   "execution_count": 24,
   "id": "d0a14173",
   "metadata": {},
   "outputs": [
    {
     "name": "stdout",
     "output_type": "stream",
     "text": [
      "Statevector([0.70710678+0.j        , 0.        +0.70710678j,\n",
      "             0.        +0.j        , 0.        +0.j        ],\n",
      "            dims=(2, 2))\n"
     ]
    },
    {
     "data": {
      "image/png": "[encoded data removed]",
      "text/plain": [
       "<Figure size 370.906x284.278 with 1 Axes>"
      ]
     },
     "execution_count": 24,
     "metadata": {},
     "output_type": "execute_result"
    }
   ],
   "source": [
    "qc3.x(1)\n",
    "print(qinfo.Statevector(qc3))\n",
    "qc3.draw(output=\"mpl\")"
   ]
  }
 ],
 "metadata": {
  "kernelspec": {
   "display_name": "Python 3",
   "language": "python",
   "name": "python3"
  },
  "language_info": {
   "codemirror_mode": {
    "name": "ipython",
    "version": 3
   },
   "file_extension": ".py",
   "mimetype": "text/x-python",
   "name": "python",
   "nbconvert_exporter": "python",
   "pygments_lexer": "ipython3",
   "version": "3.12.1"
  }
 },
 "nbformat": 4,
 "nbformat_minor": 5
}
