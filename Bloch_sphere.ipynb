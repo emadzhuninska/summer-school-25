{
 "cells": [
  {
   "cell_type": "markdown",
   "id": "cbcfab2c",
   "metadata": {},
   "source": [
    "# The Bloch Sphere"
   ]
  },
  {
   "cell_type": "markdown",
   "id": "06452668",
   "metadata": {},
   "source": [
    "### What is the Bloch Sphere?"
   ]
  },
  {
   "cell_type": "markdown",
   "id": "15bb6de4",
   "metadata": {},
   "source": [
    "### Implementation in Qiskit"
   ]
  },
  {
   "cell_type": "code",
   "execution_count": 4,
   "id": "98881920",
   "metadata": {},
   "outputs": [],
   "source": [
    "from qiskit import QuantumCircuit\n",
    "from qiskit.quantum_info import Statevector\n",
    "from qiskit.visualization import plot_bloch_vector\n",
    "from qiskit.quantum_info import Operator"
   ]
  },
  {
   "cell_type": "code",
   "execution_count": null,
   "id": "cfb922f3",
   "metadata": {},
   "outputs": [],
   "source": [
    "qc = QuantumCircuit(1)  \n",
    "\n"
   ]
  }
 ],
 "metadata": {
  "kernelspec": {
   "display_name": "quantum",
   "language": "python",
   "name": "python3"
  },
  "language_info": {
   "codemirror_mode": {
    "name": "ipython",
    "version": 3
   },
   "file_extension": ".py",
   "mimetype": "text/x-python",
   "name": "python",
   "nbconvert_exporter": "python",
   "pygments_lexer": "ipython3",
   "version": "3.11.13"
  }
 },
 "nbformat": 4,
 "nbformat_minor": 5
}
