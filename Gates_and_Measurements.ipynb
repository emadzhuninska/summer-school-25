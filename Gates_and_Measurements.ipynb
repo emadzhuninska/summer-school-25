{
 "cells": [
  {
   "cell_type": "markdown",
   "id": "37071f53",
   "metadata": {},
   "source": [
    "# Pauli Operators, Single & Multiple Qubit Gates, and Measurements"
   ]
  },
  {
   "cell_type": "markdown",
   "id": "446201f8",
   "metadata": {},
   "source": [
    "### 1. What is a Quantum Gate?"
   ]
  },
  {
   "cell_type": "markdown",
   "id": "c133911e",
   "metadata": {},
   "source": [
    "Quantum gates give us the possibilities to manipulate quantum states.\n",
    "\n",
    "Every **unitary operator**, that is every matrix that fulfills $U^\\dagger U = \\mathbb{I}$, can be considered a quantum gate in a formal sense:\n",
    "\n",
    "- always reversible transformations.\n",
    "\n",
    "- cannot generate new qubits (*No-Cloning Therem*), therefore, they have the same amount of inputs and outputs.\n",
    "\n",
    "- there is exactly one conduit per qubit in a circuit."
   ]
  },
  {
   "cell_type": "markdown",
   "id": "22ca9162",
   "metadata": {},
   "source": [
    "### 2. Single Qubit Gates"
   ]
  },
  {
   "cell_type": "code",
   "execution_count": 1,
   "id": "390c20b8",
   "metadata": {},
   "outputs": [],
   "source": [
    "import matplotlib.pyplot as plt\n",
    "from qiskit import QuantumCircuit\n",
    "from qiskit.quantum_info import Statevector\n",
    "\n",
    "\n",
    "# Suppress warnings\n",
    "import warnings\n",
    "warnings.filterwarnings('ignore')"
   ]
  },
  {
   "cell_type": "code",
   "execution_count": 2,
   "id": "99685639",
   "metadata": {},
   "outputs": [
    {
     "name": "stdout",
     "output_type": "stream",
     "text": [
      "Statevector([1.+0.j, 0.+0.j],\n",
      "            dims=(2,))\n"
     ]
    }
   ],
   "source": [
    "qc = QuantumCircuit(1)  # Create a quantum circuit with 1 qubit\n",
    "\n",
    "state = Statevector.from_instruction(qc)\n",
    "print(state)"
   ]
  },
  {
   "cell_type": "markdown",
   "id": "8628d6a6",
   "metadata": {},
   "source": [
    "#### The X-gate"
   ]
  },
  {
   "cell_type": "markdown",
   "id": "43ad6c70",
   "metadata": {},
   "source": [
    "The X-gate is the quantum analogy of the classical NOT gate, or simply known as the bit flip gate. \n",
    "\n",
    "- $X|0\\rangle$ &rarr; $|1\\rangle$ \n",
    "\n",
    "- $X|1\\rangle$ &rarr; $|0\\rangle$ \n",
    "\n",
    "It is represented by the **Pauli-X** matrix:\n",
    "\n",
    "$$\n",
    "X = \n",
    "\\begin{pmatrix}\n",
    "0 & 1 \\\\\n",
    "1 & 0\n",
    "\\end{pmatrix}\n",
    "= |0\\rangle \\langle 1| + |1\\rangle \\langle 0|\n",
    "$$\n",
    "\n",
    "When applied to any quantum state $|\\psi \\rangle = \\alpha |0\\rangle + \\beta |1\\rangle$:\n",
    "\n",
    "$$\n",
    "X|\\psi \\rangle = \n",
    "\\begin{pmatrix}\n",
    "0 & 1 \\\\\n",
    "1 & 0\n",
    "\\end{pmatrix}\n",
    "\\begin{pmatrix}\n",
    "\\alpha\\\\\n",
    "\\beta\n",
    "\\end{pmatrix}\n",
    "=\n",
    "\\begin{pmatrix}\n",
    "\\beta\\\\\n",
    "\\alpha\n",
    "\\end{pmatrix}\n",
    "= \\beta|0\\rangle + \\alpha|1\\rangle \n",
    "$$\n"
   ]
  },
  {
   "cell_type": "markdown",
   "id": "e93fbc13",
   "metadata": {},
   "source": [
    "\\* *Exercise:*\n",
    "\n",
    "- Calculate $X|0\\rangle$ \n",
    "\n",
    "- Calculate $X|1\\rangle$ "
   ]
  },
  {
   "cell_type": "markdown",
   "id": "9b3c17e1",
   "metadata": {},
   "source": [
    "##### The X-gate in Qiskit:"
   ]
  },
  {
   "cell_type": "code",
   "execution_count": 3,
   "id": "f532d33a",
   "metadata": {},
   "outputs": [
    {
     "name": "stdout",
     "output_type": "stream",
     "text": [
      "Statevector([0.+0.j, 1.+0.j],\n",
      "            dims=(2,))\n",
      "   ┌───┐\n",
      "q: ┤ X ├\n",
      "   └───┘\n"
     ]
    },
    {
     "data": {
      "image/png": "[encoded data removed]",
      "text/plain": [
       "<Figure size 185.453x117.056 with 1 Axes>"
      ]
     },
     "execution_count": 3,
     "metadata": {},
     "output_type": "execute_result"
    }
   ],
   "source": [
    "qc = QuantumCircuit(1)  # Create a quantum circuit with 1 qubit\n",
    "qc.x(0)  # Apply X-gate to qubit 0\n",
    "\n",
    "state = Statevector.from_instruction(qc)\n",
    "print(state)\n",
    "\n",
    "print(qc)\n",
    "\n",
    "qc.draw(output='mpl')  "
   ]
  },
  {
   "cell_type": "markdown",
   "id": "2c5758e6",
   "metadata": {},
   "source": [
    "\\* To make the 'mpl' output work: *pip install pylatexenc*"
   ]
  },
  {
   "cell_type": "markdown",
   "id": "4d4c3d02",
   "metadata": {},
   "source": [
    "#### The Z-gate"
   ]
  },
  {
   "cell_type": "markdown",
   "id": "2c6ebea7",
   "metadata": {},
   "source": [
    "The Z-gate is leaves $|0\\rangle$ unchanged, BUT switches the sign of $|1\\rangle$.\n",
    "\n",
    "- $Z|0\\rangle$ &rarr; $|0\\rangle$ \n",
    "\n",
    "- $Z|1\\rangle$ &rarr; $-|1\\rangle$ \n",
    "\n",
    "It is represented by the **Pauli-Z** matrix:\n",
    "\n",
    "$$\n",
    "Z = \n",
    "\\begin{pmatrix}\n",
    "1 & 0 \\\\\n",
    "0 & -1\n",
    "\\end{pmatrix}\n",
    "= |0\\rangle \\langle 0| - |1\\rangle \\langle 1|\n",
    "$$"
   ]
  },
  {
   "cell_type": "markdown",
   "id": "8f9a1c48",
   "metadata": {},
   "source": [
    "\\* *Exercise:*\n",
    "\n",
    "- Calculate $Z|0\\rangle$ \n",
    "\n",
    "- Calculate $Z|1\\rangle$ "
   ]
  },
  {
   "cell_type": "markdown",
   "id": "ef83dafd",
   "metadata": {},
   "source": [
    "##### The Z-gate in Qiskit:"
   ]
  },
  {
   "cell_type": "code",
   "execution_count": 4,
   "id": "0ea93483",
   "metadata": {},
   "outputs": [
    {
     "name": "stdout",
     "output_type": "stream",
     "text": [
      "Statevector([1.+0.j, 0.+0.j],\n",
      "            dims=(2,))\n",
      "   ┌───┐\n",
      "q: ┤ Z ├\n",
      "   └───┘\n"
     ]
    },
    {
     "data": {
      "image/png": "[encoded data removed]",
      "text/plain": [
       "<Figure size 185.453x117.056 with 1 Axes>"
      ]
     },
     "execution_count": 4,
     "metadata": {},
     "output_type": "execute_result"
    }
   ],
   "source": [
    "qc = QuantumCircuit(1)  # Create a quantum circuit with 1 qubit\n",
    "qc.z(0)  # Apply Z-gate to qubit 0\n",
    "\n",
    "state = Statevector.from_instruction(qc)\n",
    "print(state)\n",
    "\n",
    "print(qc)\n",
    "\n",
    "qc.draw(output='mpl')  "
   ]
  },
  {
   "cell_type": "markdown",
   "id": "d40b7ee6",
   "metadata": {},
   "source": [
    "To see that the Z-gate switches the sign of the $|1\\rangle$ state, we first need to apply the X-gate:"
   ]
  },
  {
   "cell_type": "code",
   "execution_count": 5,
   "id": "5e975875",
   "metadata": {},
   "outputs": [
    {
     "name": "stdout",
     "output_type": "stream",
     "text": [
      "Statevector([ 0.+0.j, -1.+0.j],\n",
      "            dims=(2,))\n",
      "   ┌───┐┌───┐\n",
      "q: ┤ X ├┤ Z ├\n",
      "   └───┘└───┘\n"
     ]
    },
    {
     "data": {
      "image/png": "[encoded data removed]",
      "text/plain": [
       "<Figure size 269.064x117.056 with 1 Axes>"
      ]
     },
     "execution_count": 5,
     "metadata": {},
     "output_type": "execute_result"
    }
   ],
   "source": [
    "qc = QuantumCircuit(1)  # Create a quantum circuit with 1 qubit\n",
    "qc.x(0)  # Apply X-gate to qubit 0 \n",
    "qc.z(0)  # Apply Z-gate to qubit 0\n",
    "\n",
    "state = Statevector.from_instruction(qc)\n",
    "print(state)\n",
    "\n",
    "print(qc)\n",
    "\n",
    "qc.draw(output='mpl')  "
   ]
  },
  {
   "cell_type": "markdown",
   "id": "eeb0e6f3",
   "metadata": {},
   "source": [
    "#### The Hadamard Gate"
   ]
  },
  {
   "cell_type": "markdown",
   "id": "dcd535e9",
   "metadata": {},
   "source": [
    "The Hadamard gate creates a superposition of $|0\\rangle$ and $|1\\rangle$ from the states $|0\\rangle$ and $|1\\rangle$:\n",
    "\n",
    "- $H|0\\rangle$ &rarr; $|+\\rangle$ = $\\frac{1}{\\sqrt{2}} (|0\\rangle + |1\\rangle)$\n",
    "\n",
    "- $H|1\\rangle$ &rarr; $|-\\rangle$ = $\\frac{1}{\\sqrt{2}} (|0\\rangle - |1\\rangle)$\n",
    "\n",
    "\n",
    "and its matrix representation:\n",
    "\n",
    "$$\n",
    "H = \\frac{1}{\\sqrt{2}}\n",
    "\\begin{pmatrix}\n",
    "1 & 1 \\\\\n",
    "1 & -1\n",
    "\\end{pmatrix}\n",
    "$$\n",
    "\n"
   ]
  },
  {
   "cell_type": "markdown",
   "id": "a12a2e0f",
   "metadata": {},
   "source": [
    "\\* *Exercise:*\n",
    "\n",
    "- Calculate $H|0\\rangle$ \n",
    "\n",
    "- Calculate $H|1\\rangle$ "
   ]
  },
  {
   "cell_type": "markdown",
   "id": "0be2dde7",
   "metadata": {},
   "source": [
    "##### The Hadamard Gate in Qiskit:"
   ]
  },
  {
   "cell_type": "code",
   "execution_count": 6,
   "id": "05ec954e",
   "metadata": {},
   "outputs": [
    {
     "name": "stdout",
     "output_type": "stream",
     "text": [
      "Statevector([0.70710678+0.j, 0.70710678+0.j],\n",
      "            dims=(2,))\n",
      "   ┌───┐\n",
      "q: ┤ H ├\n",
      "   └───┘\n"
     ]
    },
    {
     "data": {
      "image/png": "[encoded data removed]",
      "text/plain": [
       "<Figure size 185.453x117.056 with 1 Axes>"
      ]
     },
     "execution_count": 6,
     "metadata": {},
     "output_type": "execute_result"
    }
   ],
   "source": [
    "qc = QuantumCircuit(1)  # Create a quantum circuit with 1 qubit\n",
    "qc.h(0)  # Apply Hadamard gate to qubit 0\n",
    "\n",
    "state = Statevector.from_instruction(qc)\n",
    "print(state)\n",
    "\n",
    "print(qc)\n",
    "\n",
    "qc.draw(output='mpl') "
   ]
  },
  {
   "cell_type": "markdown",
   "id": "75859e66",
   "metadata": {},
   "source": [
    "### 3. Multiple Qubits Gates"
   ]
  },
  {
   "cell_type": "markdown",
   "id": "7b9b2724",
   "metadata": {},
   "source": [
    "#### The CNOT gate"
   ]
  },
  {
   "cell_type": "markdown",
   "id": "2549767c",
   "metadata": {},
   "source": [
    "The CNOT, or controlled NOT, gate affects the quantum state of 2-qubit systems. \n",
    "\n",
    "The first qubit is called a **control qubit** and the second one is the **target qubit**:\n",
    "\n",
    "- if the control qubit is set to 0, the target one remains unchanged.\n",
    "\n",
    "    - $CNOT|00\\rangle$ &rarr; $|00\\rangle$ \n",
    "\n",
    "    - $CNOT|01\\rangle$ &rarr; $|01\\rangle$ \n",
    "\n",
    "- if the control qubit is set to 1, the target qubit gets inverted.\n",
    "\n",
    "    - $CNOT|10\\rangle$ &rarr; $|11\\rangle$ \n",
    "\n",
    "    - $CNOT|11\\rangle$ &rarr; $|10\\rangle$ \n",
    "\n",
    "the matrix representation of the CNOT gate is the following:\n",
    "\n",
    "$$\n",
    "CNOT = \n",
    "\\begin{pmatrix}\n",
    "1 & 0 & 0 & 0 \\\\\n",
    "0 & 1 & 0 & 0 \\\\\n",
    "0 & 0 & 0 & 1 \\\\\n",
    "0 & 0 & 1 & 0\n",
    "\\end{pmatrix}\n",
    "$$"
   ]
  },
  {
   "cell_type": "markdown",
   "id": "eec19fe3",
   "metadata": {},
   "source": [
    "\\* *Exercise:*\n",
    "\n",
    "- Calculate $CNOT|01\\rangle$ \n",
    "\n",
    "- Calculate $CNOT|10\\rangle$ "
   ]
  },
  {
   "cell_type": "markdown",
   "id": "7fded1a7",
   "metadata": {},
   "source": [
    "##### The CNOT Gate in Qiskit:"
   ]
  },
  {
   "cell_type": "markdown",
   "id": "9c1ac5cc",
   "metadata": {},
   "source": [
    "Here, the control qubit is in the $|0\\rangle$ state, just as it is initialised.\n",
    "\n",
    "\\* *Spoiler* : the statevector remains the same, showing the $|00\\rangle$ state. "
   ]
  },
  {
   "cell_type": "code",
   "execution_count": 7,
   "id": "8d380cc6",
   "metadata": {},
   "outputs": [
    {
     "name": "stdout",
     "output_type": "stream",
     "text": [
      "Statevector([1.+0.j, 0.+0.j, 0.+0.j, 0.+0.j],\n",
      "            dims=(2, 2))\n",
      "          \n",
      "q_0: ──■──\n",
      "     ┌─┴─┐\n",
      "q_1: ┤ X ├\n",
      "     └───┘\n"
     ]
    },
    {
     "data": {
      "image/png": "[encoded data removed]",
      "text/plain": [
       "<Figure size 203.683x200.667 with 1 Axes>"
      ]
     },
     "execution_count": 7,
     "metadata": {},
     "output_type": "execute_result"
    }
   ],
   "source": [
    "qc = QuantumCircuit(2)  # Create a quantum circuit with 2 qubits\n",
    "qc.cx(0,1) # Apply CNOT gate with control qubit 0 and target qubit 1\n",
    "\n",
    "state = Statevector.from_instruction(qc)\n",
    "print(state)\n",
    "\n",
    "print(qc)\n",
    "\n",
    "qc.draw(output='mpl') "
   ]
  },
  {
   "cell_type": "markdown",
   "id": "1d9ae7ae",
   "metadata": {},
   "source": [
    "But if the control qubit is in the $|1\\rangle$ state, then the outout state becomes $|11\\rangle$:"
   ]
  },
  {
   "cell_type": "code",
   "execution_count": 8,
   "id": "5652a101",
   "metadata": {},
   "outputs": [
    {
     "name": "stdout",
     "output_type": "stream",
     "text": [
      "Statevector([0.+0.j, 0.+0.j, 0.+0.j, 1.+0.j],\n",
      "            dims=(2, 2))\n",
      "     ┌───┐     \n",
      "q_0: ┤ X ├──■──\n",
      "     └───┘┌─┴─┐\n",
      "q_1: ─────┤ X ├\n",
      "          └───┘\n"
     ]
    },
    {
     "data": {
      "image/png": "[encoded data removed]",
      "text/plain": [
       "<Figure size 287.294x200.667 with 1 Axes>"
      ]
     },
     "execution_count": 8,
     "metadata": {},
     "output_type": "execute_result"
    }
   ],
   "source": [
    "qc = QuantumCircuit(2)  # Create a quantum circuit with 2 qubits\n",
    "qc.x(0)  # Apply X-gate to qubit 0\n",
    "qc.cx(0,1) # Apply CNOT gate with control qubit 0 and target qubit 1\n",
    "\n",
    "state = Statevector.from_instruction(qc)\n",
    "print(state)\n",
    "\n",
    "print(qc)\n",
    "\n",
    "qc.draw(output='mpl') "
   ]
  },
  {
   "cell_type": "markdown",
   "id": "dd224cb9",
   "metadata": {},
   "source": [
    "### Measurements"
   ]
  },
  {
   "cell_type": "markdown",
   "id": "339b0e2e",
   "metadata": {},
   "source": [
    "Measurements are performed at the end of the quntum circuit (sometimes assumed that every qubit is measured even without explicit notation). They are performed in the computational basis (often only in an implicit manner). A measurement in the computational basis means a projection onto the states $|0\\rangle$ and $|1\\rangle$."
   ]
  },
  {
   "cell_type": "markdown",
   "id": "e05a8f8b",
   "metadata": {},
   "source": [
    "Measurement symbol in Qiskit:"
   ]
  },
  {
   "cell_type": "code",
   "execution_count": 9,
   "id": "9667d74a",
   "metadata": {},
   "outputs": [
    {
     "data": {
      "image/png": "[encoded data removed]",
      "text/plain": [
       "<Figure size 185.453x200.667 with 1 Axes>"
      ]
     },
     "execution_count": 9,
     "metadata": {},
     "output_type": "execute_result"
    }
   ],
   "source": [
    "qc = QuantumCircuit(1,1) # Create a quantum circuit with 1 qubit and 1 classical bit\n",
    "\n",
    "qc.measure(0, 0) # Measure qubit 0 and store result in classical bit 0\n",
    "\n",
    "qc.draw(output='mpl')"
   ]
  },
  {
   "cell_type": "markdown",
   "id": "87448cf9",
   "metadata": {},
   "source": [
    "In case quantum states should be measured in another measurement basis, a suitable transformation can be integrated in the circuit before the measurement."
   ]
  },
  {
   "cell_type": "markdown",
   "id": "738cf0af",
   "metadata": {},
   "source": [
    "\\* *Example:*\n",
    "\n",
    "Prior to measuring in the X-basis, a Hadamard gate is applied to the state:\n",
    "\n",
    "$$\n",
    "|\\psi \\rangle = \\alpha |+\\rangle + \\beta |-\\rangle\n",
    "$$\n",
    "$$\n",
    "H|\\psi \\rangle = \\alpha |0\\rangle + \\beta |1\\rangle\n",
    "$$\n",
    "\n",
    "The Hadamard gate 'transfers' the probability amplitudes of the states $|+\\rangle$ and $|-\\rangle$ to the computational basis."
   ]
  },
  {
   "cell_type": "code",
   "execution_count": 10,
   "id": "e91ece26",
   "metadata": {},
   "outputs": [
    {
     "name": "stdout",
     "output_type": "stream",
     "text": [
      "Statevector([0.70710678+0.j, 0.70710678+0.j],\n",
      "            dims=(2,))\n"
     ]
    },
    {
     "data": {
      "image/png": "[encoded data removed]",
      "text/plain": [
       "<Figure size 269.064x200.667 with 1 Axes>"
      ]
     },
     "execution_count": 10,
     "metadata": {},
     "output_type": "execute_result"
    }
   ],
   "source": [
    "qc = QuantumCircuit(1,1)  # Create a quantum circuit with 1 qubit and 1 classical bit\n",
    "qc.h(0)  # Apply Hadamard gate to qubit 0\n",
    "\n",
    "state = Statevector.from_instruction(qc)\n",
    "print(state)\n",
    "\n",
    "qc.measure(0, 0)  # Measure qubit 0 and store result in classical bit 0\n",
    "\n",
    "qc.draw(output='mpl')"
   ]
  },
  {
   "cell_type": "code",
   "execution_count": 11,
   "id": "d5969bac",
   "metadata": {},
   "outputs": [
    {
     "name": "stdout",
     "output_type": "stream",
     "text": [
      "     ┌───┐     ┌─┐   \n",
      "q_0: ┤ H ├──■──┤M├───\n",
      "     └───┘┌─┴─┐└╥┘┌─┐\n",
      "q_1: ─────┤ X ├─╫─┤M├\n",
      "          └───┘ ║ └╥┘\n",
      "c: 2/═══════════╩══╩═\n",
      "                0  1 \n"
     ]
    },
    {
     "data": {
      "image/png": "[encoded data removed]",
      "text/plain": [
       "<Figure size 454.517x284.278 with 1 Axes>"
      ]
     },
     "execution_count": 11,
     "metadata": {},
     "output_type": "execute_result"
    }
   ],
   "source": [
    "qc = QuantumCircuit(2, 2) # Create a quantum circuit with 2 qubits and 2 classical bits\n",
    "qc.h(0) \n",
    "qc.cx(0,1)\n",
    "\n",
    "qc.measure(0, 0)  # Measure qubit 0 and store result in classical bit 0\n",
    "qc.measure(1, 1)  # Measure qubit 1 and store result in classical bit 1\n",
    "\n",
    "print(qc)\n",
    "\n",
    "qc.draw(output='mpl')  \n"
   ]
  },
  {
   "cell_type": "code",
   "execution_count": 12,
   "id": "68d768df",
   "metadata": {},
   "outputs": [
    {
     "data": {
      "image/png": "[encoded data removed]",
      "text/plain": [
       "<Figure size 580.387x284.278 with 1 Axes>"
      ]
     },
     "execution_count": 12,
     "metadata": {},
     "output_type": "execute_result"
    }
   ],
   "source": [
    "qc = QuantumCircuit(2) # Create a quantum circuit with 2 qubits \n",
    "qc.h(0) \n",
    "qc.cx(0,1)\n",
    "\n",
    "qc.measure_all()  # Measure all qubits and store results in classical bits\n",
    "\n",
    "qc.draw(output='mpl')  "
   ]
  },
  {
   "cell_type": "markdown",
   "id": "6df62127",
   "metadata": {},
   "source": [
    "#### Simulator and Backends in Qiskit\n",
    "\n",
    "In Qiskit, a **backend** is the device (simulator or real quantum computer) that runs our quantum circuits.  \n",
    "- **Simulator backends** run the circuit on a classical computer, mimicking quantum behavior.  \n",
    "- **Real-device backends** run the circuit on actual quantum hardware.\n",
    "\n",
    "Here we use **`Aer`** — Qiskit’s high-performance simulator — with the `aer_simulator` backend to execute our circuit and gather measurement results.  "
   ]
  },
  {
   "cell_type": "code",
   "execution_count": 13,
   "id": "e68eb220",
   "metadata": {},
   "outputs": [],
   "source": [
    "from qiskit_aer import Aer\n",
    "from qiskit.visualization import plot_histogram"
   ]
  },
  {
   "cell_type": "markdown",
   "id": "a86f8683",
   "metadata": {},
   "source": [
    "\\* If you don’t have Qiskit Aer installed, you can install it in your environment with: *pip install qiskit-aer*\n"
   ]
  },
  {
   "cell_type": "code",
   "execution_count": 14,
   "id": "5d9b418d",
   "metadata": {},
   "outputs": [
    {
     "data": {
      "image/png": "[encoded data removed]",
      "text/plain": [
       "<Figure size 640x480 with 1 Axes>"
      ]
     },
     "execution_count": 14,
     "metadata": {},
     "output_type": "execute_result"
    }
   ],
   "source": [
    "# Run the circuit on the simulator\n",
    "simulator = Aer.get_backend('aer_simulator')\n",
    "result = simulator.run(qc).result()\n",
    "counts = result.get_counts()\n",
    "\n",
    "# Display the histogram\n",
    "plot_histogram(counts)"
   ]
  }
 ],
 "metadata": {
  "kernelspec": {
   "display_name": "quantum",
   "language": "python",
   "name": "python3"
  },
  "language_info": {
   "codemirror_mode": {
    "name": "ipython",
    "version": 3
   },
   "file_extension": ".py",
   "mimetype": "text/x-python",
   "name": "python",
   "nbconvert_exporter": "python",
   "pygments_lexer": "ipython3",
   "version": "3.11.13"
  }
 },
 "nbformat": 4,
 "nbformat_minor": 5
}
