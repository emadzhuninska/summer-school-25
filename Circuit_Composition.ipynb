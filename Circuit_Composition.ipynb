{
 "cells": [
  {
   "cell_type": "markdown",
   "id": "3adf814d-5e2f-4951-9f42-c4964f5bc2d2",
   "metadata": {},
   "source": [
    "## Circuit Composition\n",
    "\n",
    "In this exercises we want to explore how circuits are built and evalated in quantum programming. First we will approach combinations of gates mathematically, before implemententing them in qiskit. Finally, you will solve some circuit challenges yourself."
   ]
  },
  {
   "cell_type": "markdown",
   "id": "ae75e344-a7d7-4382-9c8b-0e37973799bc",
   "metadata": {},
   "source": [
    "### Combining Gates\n",
    "\n",
    "_1. Calculate the matrices for $|\\psi\\rangle$ and draw the circuits:_\n",
    "\n",
    "a. $XH|0\\rangle$\n",
    "\n",
    "b. $ZX|0\\rangle$\n",
    "\n",
    "c. $HXH|1\\rangle$\n",
    "\n",
    "_2. Evaluate the following circuits:_"
   ]
  },
  {
   "cell_type": "markdown",
   "id": "b5bdc76f-4573-4e20-9ec0-50139164d785",
   "metadata": {},
   "source": [
    "### Implementation\n",
    "Now implement the circuits from the exercises before to check whether your results are correct."
   ]
  },
  {
   "cell_type": "markdown",
   "id": "cc103127-5250-448e-a2b9-9632ba64a5e1",
   "metadata": {},
   "source": [
    "### 3. Recreate circuits\n",
    "*provide pictures of Circuits for them to build, introduce new gates that they have to look up in the documentation*"
   ]
  },
  {
   "cell_type": "markdown",
   "id": "8a091a25",
   "metadata": {},
   "source": []
  }
 ],
 "metadata": {
  "kernelspec": {
   "display_name": "Python 3 (ipykernel)",
   "language": "python",
   "name": "python3"
  },
  "language_info": {
   "codemirror_mode": {
    "name": "ipython",
    "version": 3
   },
   "file_extension": ".py",
   "mimetype": "text/x-python",
   "name": "python",
   "nbconvert_exporter": "python",
   "pygments_lexer": "ipython3",
   "version": "3.12.3"
  }
 },
 "nbformat": 4,
 "nbformat_minor": 5
}
