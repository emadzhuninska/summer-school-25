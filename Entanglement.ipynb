{
 "cells": [
  {
   "cell_type": "markdown",
   "id": "e270d56a-9f40-4d69-a1b5-3273888af1d7",
   "metadata": {},
   "source": [
    "## Entanglement\n",
    "\n",
    "In this chapter we finally explore the special (and weird) properties of qubits, like superpositions and entanglement, that promise the computational speedup of quantum computers. We will determine how superposition and entanglement are linked to the probability outcomes of our measurements. Finally, we will implement and evaluate the circuits required to establish the so-called Bell states."
   ]
  },
  {
   "cell_type": "markdown",
   "id": "4b44cd90-f6df-4633-8b28-b81342264f52",
   "metadata": {},
   "source": [
    "### 1. Superposition (One Qubit)\n",
    "What is superposition? What does it mean for computation? How do we implement it in qiskit. Calculate State vectors"
   ]
  },
  {
   "cell_type": "markdown",
   "id": "8bc2afac-9bf9-4786-94a1-1909bb7e0d41",
   "metadata": {},
   "source": [
    "### 2. Entanglement (Multible Qubits)\n",
    "Difference between product state and entangled state. Bell states. H+CNOT in qiskit."
   ]
  },
  {
   "cell_type": "markdown",
   "id": "27656edc-fb37-43cd-91ce-193dec96b3aa",
   "metadata": {},
   "source": [
    "### 3. Bell States\n",
    "Implement all possible bell states, take measurements."
   ]
  },
  {
   "cell_type": "code",
   "execution_count": null,
   "id": "c18f8396-ee4e-4930-a8f5-1be2069b40b8",
   "metadata": {},
   "outputs": [],
   "source": []
  }
 ],
 "metadata": {
  "kernelspec": {
   "display_name": "Python 3 (ipykernel)",
   "language": "python",
   "name": "python3"
  },
  "language_info": {
   "codemirror_mode": {
    "name": "ipython",
    "version": 3
   },
   "file_extension": ".py",
   "mimetype": "text/x-python",
   "name": "python",
   "nbconvert_exporter": "python",
   "pygments_lexer": "ipython3",
   "version": "3.12.3"
  }
 },
 "nbformat": 4,
 "nbformat_minor": 5
}
