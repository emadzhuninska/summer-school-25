{
 "cells": [
  {
   "cell_type": "markdown",
   "id": "e270d56a-9f40-4d69-a1b5-3273888af1d7",
   "metadata": {},
   "source": [
    "## Entanglement\n",
    "\n",
    "In this chapter we finally explain the special (and weird) properties of qubits, like superpositions and entanglement, that promise the computational speedup of quantum computers. We will determine how superposition and entanglement are linked to the probability outcomes of our measurements. Finally, we will implement and evaluate the circuits required to establish the so-called Bell states."
   ]
  },
  {
   "cell_type": "markdown",
   "id": "4b44cd90-f6df-4633-8b28-b81342264f52",
   "metadata": {},
   "source": [
    "### Superposition\n",
    "Quantum states $|\\psi\\rangle$ in general are linear combinations of the basis states $|0\\rangle$ and $|1\\rangle$. This combination is reffered to as superposition. In contrast to classical bits, qubits can be anywhere on the continuum between $|0\\rangle$ and $|1\\rangle$ prior to measurement:\n",
    "\n",
    "$|\\psi\\rangle= \\alpha |0\\rangle + \\beta |1\\rangle$\n",
    "\n",
    "The values $|\\alpha|^2$ an $|\\beta|^2$ represent the *probabilities* by which a quantum state will be in a state $|0\\rangle$ or $|1\\rangle$ after measurement. We have already seen probability amplitudes when working with the Hadamard gate:\n",
    "\n",
    "$H|0\\rangle = \\frac{1}{\\sqrt{2}} (|0\\rangle + |1\\rangle)$\n",
    "\n",
    "where each state has a probability of $|\\frac{1}{\\sqrt{2}}|^2$ or $p= \\frac{1}{2}$ of being measured."
   ]
  },
  {
   "cell_type": "markdown",
   "id": "7788bf4c",
   "metadata": {},
   "source": [
    "#### _1. What are the measurement probabilities of the following states?_\n",
    "\n",
    "a. $|\\psi\\rangle = \\frac{1}{\\sqrt{3}} |0\\rangle + \\sqrt{\\frac{2}{3}} |1\\rangle$\n",
    "\n",
    "b. $|\\psi\\rangle = i\\frac{2}{3} |0\\rangle + \\frac{\\sqrt{5}}{3} |1\\rangle$"
   ]
  },
  {
   "cell_type": "markdown",
   "id": "8bc2afac-9bf9-4786-94a1-1909bb7e0d41",
   "metadata": {},
   "source": [
    "### Bell States\n",
    "If a state of a system that consists of 2 or more particles can be described as a product state it is called *seperable*. For example:\n",
    "\n",
    "$|\\psi\\rangle = \\frac{1}{\\sqrt{2}} (|00\\rangle + |10\\rangle) = \\frac{1}{\\sqrt{2}} (|0\\rangle + |1\\rangle) \\otimes |0\\rangle = |+\\rangle \\otimes |0\\rangle$\n",
    "\n",
    "However, quantum states that are not seperable are referred to as *entangled*. The partial systems can not be described individually but only as a shared state. There are four states of two qubits, that are *maximally entangled*, this means learning something about one subsystem (or qubit) immediatly tells you the state of the other subsystem. They are known as *Bell states* or *EPR pairs*:\n",
    "\n",
    "$|\\Phi^+\\rangle = \\frac{1}{\\sqrt{2}} (|00\\rangle + |11\\rangle)$\n",
    "\n",
    "$|\\Phi^-\\rangle = \\frac{1}{\\sqrt{2}} (|00\\rangle - |11\\rangle)$\n",
    "\n",
    "$|\\Psi^+\\rangle = \\frac{1}{\\sqrt{2}} (|01\\rangle + |10\\rangle)$\n",
    "\n",
    "$|\\Psi^-\\rangle = \\frac{1}{\\sqrt{2}} (|01\\rangle - |10\\rangle)$\n",
    "\n",
    "Maximally entangled states with three or more qubits are called *GHZ states*. However these systems are highly sensitive, as losing or measuring a single qubit destroys all the entanglements."
   ]
  },
  {
   "cell_type": "markdown",
   "id": "f3adfc10",
   "metadata": {},
   "source": [
    "#### _2. Which of the following states is entangled?_\n",
    "\n",
    "a. $\\frac{1}{\\sqrt{2}} (|10\\rangle + |11\\rangle)$\n",
    "\n",
    "b. $\\frac{1}{2}(|00\\rangle + |01\\rangle + |10\\rangle +|11\\rangle)$\n",
    "\n",
    "c. $\\sqrt{\\frac{3}{4}} |00\\rangle + \\sqrt{\\frac{1}{4}} |11\\rangle$\n",
    "\n",
    "c. $ \\frac{|00\\rangle - |10\\rangle}{\\sqrt{2}}$"
   ]
  },
  {
   "cell_type": "markdown",
   "id": "27656edc-fb37-43cd-91ce-193dec96b3aa",
   "metadata": {},
   "source": [
    "### Entanglement Circuit\n"
   ]
  },
  {
   "cell_type": "code",
   "execution_count": null,
   "id": "c18f8396-ee4e-4930-a8f5-1be2069b40b8",
   "metadata": {},
   "outputs": [],
   "source": []
  }
 ],
 "metadata": {
  "kernelspec": {
   "display_name": "Python 3 (ipykernel)",
   "language": "python",
   "name": "python3"
  },
  "language_info": {
   "codemirror_mode": {
    "name": "ipython",
    "version": 3
   },
   "file_extension": ".py",
   "mimetype": "text/x-python",
   "name": "python",
   "nbconvert_exporter": "python",
   "pygments_lexer": "ipython3",
   "version": "3.12.3"
  }
 },
 "nbformat": 4,
 "nbformat_minor": 5
}
