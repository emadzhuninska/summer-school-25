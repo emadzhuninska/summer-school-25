{
 "cells": [
  {
   "cell_type": "markdown",
   "id": "62679a7c",
   "metadata": {},
   "source": [
    "# Introduction"
   ]
  },
  {
   "cell_type": "markdown",
   "id": "cd5ce581",
   "metadata": {},
   "source": [
    "## Installing Requirements\n",
    "- VS Code\n",
    "\n",
    "- Quantum Developer Kit (QDK): Microsoft's toolkit for quantum programming.\n",
    "\n",
    "- QKD Extension: Adds quantum development support inside VS Code."
   ]
  },
  {
   "cell_type": "markdown",
   "id": "a04f5fd7",
   "metadata": {},
   "source": [
    "### VS Code Instalation Guidline:\n",
    "\n",
    "**Step 1: Go to the VS Code Website**\n",
    "\n",
    "* Open your web browser and visit: [https://code.visualstudio.com/](https://code.visualstudio.com/)\n",
    "\n",
    "**Step 2: Download VS Code**\n",
    "\n",
    "* Click the big **Download** button for your operating system (Windows, macOS, or Linux).\n",
    "\n",
    "**Step 3: Run the Installer**\n",
    "\n",
    "* Once downloaded, open the installer file.\n",
    "* Follow the on-screen instructions to install VS Code.\n",
    "\n",
    "**Step 4: Launch VS Code**\n",
    "\n",
    "* After installation, open VS Code from your Start menu (Windows), Applications folder (macOS), or your app launcher (Linux).\n",
    "\n",
    "**Step 5: Install Recommended Extensions**\n",
    "\n",
    "* Open the **Extensions** view by clicking the square icon on the sidebar or pressing `Ctrl+Shift+X` (`Cmd+Shift+X` on Mac).\n",
    "* Search for the **Quantum Development Kit (QDK)** and click **Install**.\n"
   ]
  },
  {
   "cell_type": "markdown",
   "id": "f210cc41",
   "metadata": {},
   "source": [
    "### Python Environment Setup\n",
    "\n",
    "**Python Version**:\n",
    "\n",
    "* Use Python 3.11 (recommended for compatibility and performance).\n",
    "\n",
    "**Required Packages**:\n",
    "\n",
    "* ***jupyterlab*** — Interactive coding environment.\n",
    "\n",
    "* ***ipykernel*** — Allows Python code to run inside Jupyter notebooks.\n",
    "\n",
    "* ***matplotlib*** — For creating plots and visualizations.\n",
    "\n",
    "* ***qiskit*** — IBM’s open-source quantum computing framework."
   ]
  },
  {
   "cell_type": "markdown",
   "id": "1953887d",
   "metadata": {},
   "source": [
    "#### How to Install These Packages\n",
    "\n",
    "**1: Make sure Python 3.11 is installed.**\n",
    "\n",
    "**2: Open your terminal (or Anaconda Prompt if you use Anaconda).**\n",
    "\n",
    "**3: Create a new environment (optional but recommended):**\n",
    "\n",
    "`python -m venv quantum-env`\n",
    "\n",
    "`source quantum-env/bin/activate`    (\\*On Windows: quantum-env\\Scripts\\activate)\n",
    "\n",
    "**4:** Install the packages with pip:\n",
    "\n",
    "`pip install jupyterlab ipykernel matplotlib qiskit`\n",
    "\n",
    "**5: Launch JupyterLab by typing:**\n",
    "\n",
    "`jupyter lab`\n"
   ]
  },
  {
   "cell_type": "markdown",
   "id": "1d0191f2",
   "metadata": {},
   "source": [
    "## Qiskit Learning Resources\n",
    "\n",
    "1. **Official Qiskit Documentation**\n",
    "\n",
    "   * [https://qiskit.org/documentation/](https://qiskit.org/documentation/)\n",
    "     Comprehensive guides, API references, and tutorials.\n",
    "\n",
    "2. **Qiskit Textbook** (Free online book)\n",
    "\n",
    "   * [https://qiskit.org/textbook/](https://qiskit.org/textbook/)\n",
    "     An interactive textbook covering fundamentals of quantum computing and how to program with Qiskit.\n",
    "\n",
    "3. **Qiskit YouTube Channel**\n",
    "\n",
    "   * [https://www.youtube.com/qiskit](https://www.youtube.com/qiskit)\n",
    "     Video tutorials, webinars, and workshops.\n",
    "\n",
    "4. **IBM Quantum Experience**\n",
    "\n",
    "   * [https://quantum-computing.ibm.com/](https://quantum-computing.ibm.com/)\n",
    "     Hands-on platform to run Qiskit programs on real quantum hardware.\n",
    "\n",
    "5. **Qiskit Community and Slack**\n",
    "\n",
    "   * [https://qiskit.org/events/community/](https://qiskit.org/events/community/)\n",
    "     Join the community for discussions, Q\\&A, and collaboration.\n",
    "\n",
    "6. **Qiskit Tutorials on GitHub**\n",
    "\n",
    "   * [https://github.com/Qiskit/qiskit-tutorials](https://github.com/Qiskit/qiskit-tutorials)\n",
    "     Ready-to-run notebooks demonstrating various quantum algorithms and techniques.\n",
    "\n"
   ]
  }
 ],
 "metadata": {
  "language_info": {
   "name": "python"
  }
 },
 "nbformat": 4,
 "nbformat_minor": 5
}
