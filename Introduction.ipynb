{
 "cells": [
  {
   "cell_type": "markdown",
   "id": "62679a7c",
   "metadata": {},
   "source": [
    "# Introduction"
   ]
  },
  {
   "cell_type": "markdown",
   "id": "cd5ce581",
   "metadata": {},
   "source": [
    "## Installing Requirements\n",
    "- VS Code\n",
    "\n",
    "- Quantum Developer Kit (QDK): Microsoft's toolkit for quantum programming.\n",
    "\n",
    "- QKD Extension: Adds quantum development support inside VS Code."
   ]
  },
  {
   "cell_type": "markdown",
   "id": "a04f5fd7",
   "metadata": {},
   "source": [
    "### VS Code Instalation Guidline:\n",
    "\n",
    "**Step 1: Go to the VS Code Website**\n",
    "\n",
    "* Open your web browser and visit: [https://code.visualstudio.com/](https://code.visualstudio.com/)\n",
    "\n",
    "**Step 2: Download VS Code**\n",
    "\n",
    "* Click the big **Download** button for your operating system (Windows, macOS, or Linux).\n",
    "\n",
    "**Step 3: Run the Installer**\n",
    "\n",
    "* Once downloaded, open the installer file.\n",
    "* Follow the on-screen instructions to install VS Code.\n",
    "\n",
    "**Step 4: Launch VS Code**\n",
    "\n",
    "* After installation, open VS Code from your Start menu (Windows), Applications folder (macOS), or your app launcher (Linux).\n",
    "\n",
    "**Step 5: Install Recommended Extensions**\n",
    "\n",
    "* Open the **Extensions** view by clicking the square icon on the sidebar or pressing `Ctrl+Shift+X` (`Cmd+Shift+X` on Mac).\n",
    "* Search for the **Quantum Development Kit (QDK)** and click **Install**.\n"
   ]
  },
  {
   "cell_type": "markdown",
   "id": "f210cc41",
   "metadata": {},
   "source": [
    "  *- python=3.11*\n",
    "\n",
    "  *- jupyterlab*\n",
    "\n",
    "  *- ipykernel*\n",
    "  \n",
    "  *- matplotlib*\n",
    "  \n",
    "  *- qiskit*"
   ]
  },
  {
   "cell_type": "markdown",
   "id": "6973ac90",
   "metadata": {},
   "source": []
  }
 ],
 "metadata": {
  "language_info": {
   "name": "python"
  }
 },
 "nbformat": 4,
 "nbformat_minor": 5
}
