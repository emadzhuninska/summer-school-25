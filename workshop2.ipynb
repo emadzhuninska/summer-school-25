{
 "cells": [
  {
   "cell_type": "markdown",
   "id": "37071f53",
   "metadata": {},
   "source": [
    "# Pauli Operators, Single & Multiple Qubit Gates, and Measurements"
   ]
  },
  {
   "cell_type": "markdown",
   "id": "446201f8",
   "metadata": {},
   "source": [
    "### 1. What is a Quantum Gate?"
   ]
  },
  {
   "cell_type": "markdown",
   "id": "22ca9162",
   "metadata": {},
   "source": [
    "### 2. Single Qubit Gates"
   ]
  },
  {
   "cell_type": "code",
   "execution_count": 3,
   "id": "390c20b8",
   "metadata": {},
   "outputs": [],
   "source": [
    "import matplotlib.pyplot as plt\n",
    "from qiskit import QuantumCircuit\n",
    "\n",
    "# Suppress warnings\n",
    "import warnings\n",
    "warnings.filterwarnings('ignore')"
   ]
  },
  {
   "cell_type": "markdown",
   "id": "8628d6a6",
   "metadata": {},
   "source": [
    "#### The X-gate"
   ]
  },
  {
   "cell_type": "markdown",
   "id": "9b3c17e1",
   "metadata": {},
   "source": [
    "##### The X-gate in Qiskit:"
   ]
  },
  {
   "cell_type": "code",
   "execution_count": 5,
   "id": "f532d33a",
   "metadata": {},
   "outputs": [
    {
     "name": "stdout",
     "output_type": "stream",
     "text": [
      "   ┌───┐\n",
      "q: ┤ X ├\n",
      "   └───┘\n"
     ]
    },
    {
     "data": {
      "image/png": "[encoded data removed]",
      "text/plain": [
       "<Figure size 185.453x117.056 with 1 Axes>"
      ]
     },
     "execution_count": 5,
     "metadata": {},
     "output_type": "execute_result"
    }
   ],
   "source": [
    "qc = QuantumCircuit(1)  # Create a quantum circuit with 1 qubit\n",
    "qc.x(0)  # Apply Hadamard gate to qubit 0\n",
    "\n",
    "print(qc)\n",
    "\n",
    "qc.draw(output='mpl')  "
   ]
  },
  {
   "cell_type": "markdown",
   "id": "f9b7bdcd",
   "metadata": {},
   "source": [
    "#### The Z-gate"
   ]
  },
  {
   "cell_type": "markdown",
   "id": "ef83dafd",
   "metadata": {},
   "source": [
    "##### The Z-gate in Qiskit:"
   ]
  },
  {
   "cell_type": "code",
   "execution_count": 7,
   "id": "0ea93483",
   "metadata": {},
   "outputs": [
    {
     "name": "stdout",
     "output_type": "stream",
     "text": [
      "   ┌───┐\n",
      "q: ┤ Z ├\n",
      "   └───┘\n"
     ]
    },
    {
     "data": {
      "image/png": "[encoded data removed]",
      "text/plain": [
       "<Figure size 185.453x117.056 with 1 Axes>"
      ]
     },
     "execution_count": 7,
     "metadata": {},
     "output_type": "execute_result"
    }
   ],
   "source": [
    "qc = QuantumCircuit(1)  # Create a quantum circuit with 1 qubit\n",
    "qc.z(0)  # Apply Hadamard gate to qubit 0\n",
    "\n",
    "print(qc)\n",
    "\n",
    "qc.draw(output='mpl')  "
   ]
  },
  {
   "cell_type": "markdown",
   "id": "eeb0e6f3",
   "metadata": {},
   "source": [
    "#### The Hadamard Gate"
   ]
  },
  {
   "cell_type": "markdown",
   "id": "dcd535e9",
   "metadata": {},
   "source": [
    "The Hadamard gate creates a superposition of $|0\\rangle$ and $|1\\rangle$ from the states $|0\\rangle$ and $|1\\rangle$:\n",
    "\n",
    "- $H|0\\rangle$ &rarr; $|+\\rangle$ = $\\frac{1}{\\sqrt{2}} (|0\\rangle + |1\\rangle)$\n",
    "\n",
    "- $H|1\\rangle$ &rarr; $|-\\rangle$ = $\\frac{1}{\\sqrt{2}} (|0\\rangle - |1\\rangle)$\n",
    "\n",
    "\n",
    "and its matrix representation:\n",
    "\n",
    "$$\n",
    "H = \\frac{1}{\\sqrt{2}}\n",
    "\\begin{pmatrix}\n",
    "1 & 1 \\\\\n",
    "1 & -1\n",
    "\\end{pmatrix}\n",
    "$$\n",
    "\n"
   ]
  },
  {
   "cell_type": "markdown",
   "id": "0be2dde7",
   "metadata": {},
   "source": [
    "##### The Hadamard Gate in Qiskit:"
   ]
  },
  {
   "cell_type": "code",
   "execution_count": 6,
   "id": "05ec954e",
   "metadata": {},
   "outputs": [
    {
     "name": "stdout",
     "output_type": "stream",
     "text": [
      "   ┌───┐\n",
      "q: ┤ H ├\n",
      "   └───┘\n"
     ]
    },
    {
     "data": {
      "image/png": "[encoded data removed]",
      "text/plain": [
       "<Figure size 185.453x117.056 with 1 Axes>"
      ]
     },
     "execution_count": 6,
     "metadata": {},
     "output_type": "execute_result"
    }
   ],
   "source": [
    "qc = QuantumCircuit(1)  # Create a quantum circuit with 1 qubit\n",
    "qc.h(0)  # Apply Hadamard gate to qubit 0\n",
    "\n",
    "print(qc)\n",
    "\n",
    "qc.draw(output='mpl')  # Draw the circuit using Matplotlib"
   ]
  },
  {
   "cell_type": "markdown",
   "id": "75859e66",
   "metadata": {},
   "source": [
    "### 3. Multiple Qubits Gates"
   ]
  },
  {
   "cell_type": "code",
   "execution_count": null,
   "id": "8d380cc6",
   "metadata": {},
   "outputs": [],
   "source": []
  },
  {
   "cell_type": "markdown",
   "id": "dd224cb9",
   "metadata": {},
   "source": [
    "### Measurements"
   ]
  },
  {
   "cell_type": "markdown",
   "id": "d5969bac",
   "metadata": {},
   "source": []
  }
 ],
 "metadata": {
  "kernelspec": {
   "display_name": "quantum",
   "language": "python",
   "name": "python3"
  },
  "language_info": {
   "codemirror_mode": {
    "name": "ipython",
    "version": 3
   },
   "file_extension": ".py",
   "mimetype": "text/x-python",
   "name": "python",
   "nbconvert_exporter": "python",
   "pygments_lexer": "ipython3",
   "version": "3.11.13"
  }
 },
 "nbformat": 4,
 "nbformat_minor": 5
}
