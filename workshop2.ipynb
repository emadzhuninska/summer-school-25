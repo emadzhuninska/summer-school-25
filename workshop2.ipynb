{
 "cells": [
  {
   "cell_type": "markdown",
   "id": "37071f53",
   "metadata": {},
   "source": [
    "# Pauli Operators, Single & Multiple Qubit Gates, and Measurements"
   ]
  },
  {
   "cell_type": "markdown",
   "id": "446201f8",
   "metadata": {},
   "source": [
    "### 1. What is a Quantum Gate?"
   ]
  },
  {
   "cell_type": "markdown",
   "id": "22ca9162",
   "metadata": {},
   "source": [
    "### 2. Single Qubit Gates"
   ]
  },
  {
   "cell_type": "markdown",
   "id": "8628d6a6",
   "metadata": {},
   "source": [
    "#### The X-gate"
   ]
  },
  {
   "cell_type": "markdown",
   "id": "f9b7bdcd",
   "metadata": {},
   "source": [
    "#### The Z-gate"
   ]
  },
  {
   "cell_type": "markdown",
   "id": "eeb0e6f3",
   "metadata": {},
   "source": [
    "#### The Hadamard Gate"
   ]
  },
  {
   "cell_type": "markdown",
   "id": "75859e66",
   "metadata": {},
   "source": [
    "### 3. Multiple Qubits Gates"
   ]
  },
  {
   "cell_type": "markdown",
   "id": "dd224cb9",
   "metadata": {},
   "source": [
    "### Measurements"
   ]
  },
  {
   "cell_type": "markdown",
   "id": "d5969bac",
   "metadata": {},
   "source": []
  }
 ],
 "metadata": {
  "language_info": {
   "name": "python"
  }
 },
 "nbformat": 4,
 "nbformat_minor": 5
}
