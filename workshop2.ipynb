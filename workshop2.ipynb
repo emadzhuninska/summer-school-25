{
 "cells": [
  {
   "cell_type": "markdown",
   "id": "37071f53",
   "metadata": {},
   "source": [
    "# Pauli Operators"
   ]
  },
  {
   "cell_type": "markdown",
   "id": "446201f8",
   "metadata": {},
   "source": [
    "# Single & Multiple Qubit Gates"
   ]
  },
  {
   "cell_type": "markdown",
   "id": "f92db313",
   "metadata": {},
   "source": []
  }
 ],
 "metadata": {
  "language_info": {
   "name": "python"
  }
 },
 "nbformat": 4,
 "nbformat_minor": 5
}
