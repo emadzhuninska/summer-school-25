{
 "cells": [
  {
   "cell_type": "markdown",
   "id": "26c646f6-42c5-4ee7-a586-e4237691bd01",
   "metadata": {},
   "source": [
    "# Quantum Teleportation"
   ]
  },
  {
   "cell_type": "markdown",
   "id": "ba2037d8-d0fc-490b-bca1-42186e3a05e8",
   "metadata": {},
   "source": [
    "Alice wants to send quantum information to Bob. Specifically, she wants to send the qubit state $\\vert\\psi\\rangle = \\alpha\\vert0\\rangle + \\beta\\vert1\\rangle$. \n",
    "\n",
    "\n",
    "By taking advantage of two classical bits and an entangled qubit pair, Alice can transfer their state $\\vert\\psi\\rangle$ to Bob. We call this teleportation because, at the end, Bob will have $\\vert\\psi\\rangle$ and Alice won't anymore.\n",
    " "
   ]
  },
  {
   "cell_type": "markdown",
   "id": "b68074a0-506d-4896-9a64-8648339cff6f",
   "metadata": {},
   "source": [
    "## Imports"
   ]
  },
  {
   "cell_type": "code",
   "execution_count": null,
   "id": "74a6bf98-0910-4160-82c7-a6084c121432",
   "metadata": {},
   "outputs": [],
   "source": [
    "from qiskit import *"
   ]
  },
  {
   "cell_type": "markdown",
   "id": "2424c2b1-454e-43c0-b993-0be42a4e0c9a",
   "metadata": {},
   "source": [
    "## 1. Create the quantum circuit"
   ]
  },
  {
   "cell_type": "code",
   "execution_count": null,
   "id": "c2f52e3b-533c-4a64-ba54-b381733323af",
   "metadata": {},
   "outputs": [],
   "source": [
    "qr = QuantumRegister(3, name=\"q\")\n",
    "crz, crx = ClassicalRegister(1, name=\"crz\"), ClassicalRegister(1, name=\"crx\")\n",
    "crb = ClassicalRegister(1, name=\"crb\") # third party register is included for measuring Bob's result\n",
    "teleportation_circuit = QuantumCircuit(qr, crz, crx, crb)\n",
    "teleportation_circuit.draw(\"mpl\", cregbundle=False) # using cregbundle so that each classical bit is drawn as a separate line/wire in the circuit diagram"
   ]
  },
  {
   "cell_type": "markdown",
   "id": "a2113ce7-1194-4a6f-b72b-598690ea3240",
   "metadata": {},
   "source": [
    "## 2. Create an entangled pair"
   ]
  },
  {
   "cell_type": "code",
   "execution_count": null,
   "id": "c242188b-a5a2-4697-bfbf-2b9ebcb8e605",
   "metadata": {},
   "outputs": [],
   "source": [
    "# a is Alice's qubit and b is given to Bob\n",
    "def create_bell_pair(qc, a, b):\n",
    "#### code ####"
   ]
  },
  {
   "cell_type": "code",
   "execution_count": null,
   "id": "6ed1b7d8-1f3b-4e02-86f5-dbf2fa7c6fa3",
   "metadata": {},
   "outputs": [],
   "source": [
    "create_bell_pair(teleportation_circuit, 1, 2)\n",
    "teleportation_circuit.draw(\"mpl\", cregbundle=False)"
   ]
  },
  {
   "cell_type": "markdown",
   "id": "06c64362-6398-4a9b-baf8-bdf65124dddb",
   "metadata": {},
   "source": [
    "## 3. Alice needs to entangle her unknown qubit $|\\psi \\rangle$ (the one she wants to teleport) with her half of the entangled pair $a$."
   ]
  },
  {
   "cell_type": "code",
   "execution_count": null,
   "id": "f40800b4-d483-4c83-b416-f20e41aa7001",
   "metadata": {},
   "outputs": [],
   "source": [
    "def alice_gates(qc, psi, a):\n",
    "### code ####"
   ]
  },
  {
   "cell_type": "code",
   "execution_count": null,
   "id": "d462be8f-3e4d-43f3-aa6d-d02bd0c3b95a",
   "metadata": {},
   "outputs": [],
   "source": [
    "teleportation_circuit.barrier()  # barrier to separate steps\n",
    "alice_gates(teleportation_circuit, 0, 1)\n",
    "teleportation_circuit.draw(\"mpl\", cregbundle=False)"
   ]
  },
  {
   "cell_type": "markdown",
   "id": "0c791e77-b066-4fe2-9f7d-76d9e1a8adae",
   "metadata": {},
   "source": [
    "## 4. Next, Alice applies a measurement to both qubits she owns,  $q_1$,  $\\vert\\psi\\rangle$, and stores this result in two classical bits. Then send these two bits to Bob."
   ]
  },
  {
   "cell_type": "code",
   "execution_count": null,
   "id": "83935354-3bdc-498f-b55e-ec00f87c2f40",
   "metadata": {},
   "outputs": [],
   "source": [
    "def measure_and_send(qc, a, b):\n",
    "    qc.barrier()\n",
    "    qc.measure(a, 0)\n",
    "    qc.measure(b, 1)"
   ]
  },
  {
   "cell_type": "code",
   "execution_count": null,
   "id": "1af44816-fb54-48e1-817d-176ce71c07a0",
   "metadata": {},
   "outputs": [],
   "source": [
    "measure_and_send(teleportation_circuit, 0, 1)\n",
    "teleportation_circuit.draw(\"mpl\", cregbundle=False)"
   ]
  },
  {
   "cell_type": "markdown",
   "id": "1384441f-6e5b-4055-87f9-9493a5507782",
   "metadata": {},
   "source": [
    "## 5. Bob's qubit contains the original unknown state, but with possible bit-flip and phase-flip errors."
   ]
  },
  {
   "cell_type": "markdown",
   "id": "45650538-6216-483c-8f1c-76b370b0d386",
   "metadata": {},
   "source": [
    "00 $\\rightarrow$ Do nothing\n",
    "\n",
    "01 $\\rightarrow$ Apply $X$ gate\n",
    "\n",
    "10 $\\rightarrow$ Apply $Z$ gate\n",
    "\n",
    "11 $\\rightarrow$ Apply $ZX$ gate\n",
    "\n",
    "(*Note that this transfer of information is purely classical*.)"
   ]
  },
  {
   "cell_type": "code",
   "execution_count": null,
   "id": "dba64886-f01f-4b6b-9a47-5936b9e7ecd0",
   "metadata": {},
   "outputs": [],
   "source": [
    "def bob_gates(qc, qubit, crz, crx):\n",
    "    with qc.if_test((crx,1)):\n",
    "        qc.x(qubit)\n",
    "    with qc.if_test((crz)):\n",
    "        qc.z(qubit)"
   ]
  },
  {
   "cell_type": "code",
   "execution_count": null,
   "id": "9aa83a5e-c659-4106-b8b4-6e387f93e3ae",
   "metadata": {},
   "outputs": [],
   "source": [
    "teleportation_circuit.barrier()  # barrier to separate steps\n",
    "bob_gates(teleportation_circuit, 2, crz, crx)\n",
    "teleportation_circuit.draw(\"mpl\", cregbundle=False)"
   ]
  },
  {
   "cell_type": "markdown",
   "id": "490f1403-1bfd-4432-b249-caf29244a141",
   "metadata": {},
   "source": [
    "## 6. Finally, Bob measures their qubit to verify the teleportation of Alice's qubit state."
   ]
  },
  {
   "cell_type": "code",
   "execution_count": null,
   "id": "b07420c3-ac67-40ec-b3ad-1df5f028d248",
   "metadata": {},
   "outputs": [],
   "source": [
    "crb = ClassicalRegister(1, name=\"crb\")\n",
    "teleportation_circuit.measure(2, 2)\n",
    "teleportation_circuit.draw(\"mpl\", cregbundle=False)"
   ]
  }
 ],
 "metadata": {
  "kernelspec": {
   "display_name": "Python 3 (ipykernel)",
   "language": "python",
   "name": "python3"
  },
  "language_info": {
   "codemirror_mode": {
    "name": "ipython",
    "version": 3
   },
   "file_extension": ".py",
   "mimetype": "text/x-python",
   "name": "python",
   "nbconvert_exporter": "python",
   "pygments_lexer": "ipython3",
   "version": "3.11.9"
  }
 },
 "nbformat": 4,
 "nbformat_minor": 5
}
