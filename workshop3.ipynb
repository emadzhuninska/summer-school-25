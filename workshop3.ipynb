{
 "cells": [
  {
   "cell_type": "markdown",
   "id": "cbcfab2c",
   "metadata": {},
   "source": [
    "# The Bloch Sphere"
   ]
  },
  {
   "cell_type": "markdown",
   "id": "06452668",
   "metadata": {},
   "source": []
  }
 ],
 "metadata": {
  "language_info": {
   "name": "python"
  }
 },
 "nbformat": 4,
 "nbformat_minor": 5
}
